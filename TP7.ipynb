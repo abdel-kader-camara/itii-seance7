{
 "cells": [
  {
   "cell_type": "raw",
   "metadata": {},
   "source": [
    "Ex 1 :Addition Écrire un programme pour lire les éléments de deux matrices et ajoutez les deux matrices dans la troisième.\n",
    "\n",
    "La somme de deux matrices de taille (m,n), (𝐴𝑖𝑗)𝑒𝑡(𝐵𝑖𝑗)𝑛𝑜𝑡é𝑒\n",
    "A+B𝑒𝑠𝑡à𝑛𝑜𝑢𝑣𝑒𝑎𝑢𝑢𝑛𝑒𝑚𝑎𝑡𝑟𝑖𝑐𝑒(𝐶𝑖𝑗)𝑑𝑒𝑡𝑎𝑖𝑙𝑙𝑒(𝑚,𝑛),𝑜𝑏𝑡𝑒𝑛𝑢𝑒𝑒𝑛𝑎𝑑𝑑𝑖𝑡𝑖𝑜𝑛𝑛𝑎𝑛𝑡𝑙𝑒𝑠é𝑙é𝑚𝑒𝑛𝑡𝑠𝑐𝑜𝑟𝑟𝑒𝑠𝑝𝑜𝑛𝑑𝑎𝑛𝑡𝑠:c_{ij}=a_{ij}+b_{ij}$"
   ]
  },
  {
   "cell_type": "code",
   "execution_count": 2,
   "metadata": {},
   "outputs": [
    {
     "name": "stdout",
     "output_type": "stream",
     "text": [
      "A :  [[ 3  1  5]\n",
      " [ 9  8 -1]\n",
      " [10 12  2]]\n",
      "B :  [[ 8 -1  8]\n",
      " [ 2  1  3]\n",
      " [18  2 32]]\n",
      "A + B :  [[11  0 13]\n",
      " [11  9  2]\n",
      " [28 14 34]]\n"
     ]
    }
   ],
   "source": [
    "import numpy as np\n",
    " \n",
    "A = np.array([ [3, 1, 5], [9, 8, -1], [10, 12, 2] ])\n",
    "B = np.array([ [8, -1, 8], [2, 1, 3], [18, 2, 32] ])\n",
    " \n",
    "C= A + B\n",
    "print(\"A : \", A)\n",
    "print(\"B : \", B)\n",
    "print(\"A + B : \", C)"
   ]
  },
  {
   "cell_type": "code",
   "execution_count": 3,
   "metadata": {},
   "outputs": [
    {
     "name": "stdout",
     "output_type": "stream",
     "text": [
      "[17, 15, 4]\n",
      "[10, 12, 9]\n",
      "[11, 13, 18]\n"
     ]
    }
   ],
   "source": [
    "X = [[12,7,3],\n",
    "    [4 ,5,6],\n",
    "    [7 ,8,9]]\n",
    "\n",
    "Y = [[5,8,1],\n",
    "    [6,7,3],\n",
    "    [4,5,9]]\n",
    "\n",
    "result = [[0,0,0],\n",
    "         [0,0,0],\n",
    "         [0,0,0]]\n",
    "\n",
    "# iterate through rows\n",
    "for i in range(len(X)):\n",
    "   # iterate through columns\n",
    "   for j in range(len(X[0])):\n",
    "       result[i][j] = X[i][j] + Y[i][j]\n",
    "\n",
    "for r in result:\n",
    "   print(r)"
   ]
  },
  {
   "cell_type": "raw",
   "metadata": {},
   "source": [
    "Ex2 :Multiplication Écrire un programme pour lire les éléments de deux matrices, puis multipliez les deux matrices dans la troisième.\n",
    "\n",
    "Deux matrices ne peuvent être multipliées que si le nombre de colonnes de la première matrice est le même que le nombre de lignes de la seconde matrice.\n",
    "\n",
    "Si 𝐴=(𝑎𝑖𝑗)\n",
    "est une matrice de taille (m,n), 𝐵=(𝑏𝑖𝑗) et est une matrice de taille (n,p), alors leur produit, noté 𝐴𝐵=(𝑐𝑖𝑗) est une matrice de taille (m,p) définie par :\n",
    "∀𝑖,𝑗:𝑐𝑖𝑗=∑𝑘=𝑖𝑛𝑎𝑖𝑘∗𝑏𝑘𝑗"
   ]
  },
  {
   "cell_type": "code",
   "execution_count": 4,
   "metadata": {},
   "outputs": [
    {
     "name": "stdout",
     "output_type": "stream",
     "text": [
      "A :  [[ 3  1  5]\n",
      " [ 9  8 -1]\n",
      " [24 12  2]]\n",
      "B :  [[ 8 -1  9]\n",
      " [ 2  1  3]\n",
      " [20  2 32]]\n",
      "A * B :  [[126   8 190]\n",
      " [ 68  -3  73]\n",
      " [256  -8 316]]\n"
     ]
    }
   ],
   "source": [
    "#Ex2\n",
    "import numpy as np\n",
    " \n",
    "A = np.array([ [3, 1, 5], [9, 8, -1], [24, 12, 2] ])\n",
    "B = np.array([ [8, -1, 9], [2, 1, 3], [20, 2, 32] ])\n",
    " \n",
    "C = A.dot(B)\n",
    " \n",
    "print(\"A : \", A)\n",
    "print(\"B : \", B)\n",
    "print(\"A * B : \", C)"
   ]
  },
  {
   "cell_type": "raw",
   "metadata": {},
   "source": [
    "Ex 3: Matrice de Markov\n",
    "\n",
    "Une matrice de Markov est une matrice carrée dont chaque élément est un réel compris entre 0 et 1 et dont la somme des éléments de chaque ligne vaut 1. Cela correspond, en probabilité, à la matrice de transition d'une chaîne de Markov finie.\n",
    "\n",
    "Une matrice est dite bistochastique (ou doublement stochastique) si la somme des éléments de chaque ligne et de chaque colonne vaut 1.\n",
    "\n",
    "    Ecrire une fonction eststochastique(P) qui permet de vérifier est ce que la matrice P est stochastique ou non\n",
    "    Ecrire une fonction estbistochastique(P) qui permet de vérifier est ce que la matrice P est bistochastique ou non\n",
    "    Ecrire une fonction vecteurstable(G, h) qui permet de vérifier est ce que h est un vecteur stable de G ou non\n",
    "\n"
   ]
  },
  {
   "cell_type": "code",
   "execution_count": 6,
   "metadata": {},
   "outputs": [],
   "source": [
    "#Ex3\n",
    "def eststochastique(P):\n",
    "    nl = len(P)  # nombre de lignes\n",
    "    nc = len(P[0])  # nombre de colonnes\n",
    " \n",
    "    etat = True  # on suppose que la matrice est stochastique\n",
    "    for i in range(nl):\n",
    "        s = 0\n",
    "        for j in range(nc):\n",
    "            s += P[i][j]\n",
    "        if s > 1:\n",
    "            etat = False\n",
    "            break\n",
    "    return etat\n",
    " \n",
    " \n",
    "def estbistochastique(P):\n",
    "    nl = len(P)  # nombre de lignes\n",
    "    nc = len(P[0])  # nombre de colonnes\n",
    " \n",
    "    etat = True  # on suppose que la matrice est bistochastique\n",
    "    if(eststochastique(P)):\n",
    "        for j in range(nc):\n",
    "            s = 0\n",
    "            for i in range(nl):\n",
    "                s += P[i][j]\n",
    "            if s > 1:\n",
    "                etat = False\n",
    "                break\n",
    "    return etat\n",
    " \n",
    " \n",
    "def vecteurstable(G, h):\n",
    "    nl = len(G)  # nombre de lignes\n",
    "    nc = len(G[0])  # nombre de colonnes\n",
    "    etat = True\n",
    "    if(eststochastique(G)):\n",
    "        for j in range(nc):\n",
    "            s = 0\n",
    "            for i in range(nl):\n",
    "                s += h[i]*G[i][j]\n",
    "            if s != h[j]:\n",
    "                etat = False\n",
    "                break\n",
    "    else:\n",
    "        etat = False"
   ]
  },
  {
   "cell_type": "raw",
   "metadata": {},
   "source": [
    "Ex 4: Transposer\n",
    "\n",
    "Programmer une fonction qui, étant donné une matrice à deux dimensions A, retourne lamatrice B dont la première colonne est la première ligne de A, la seconde la deuxième ligne de A, etc. B s’appelle la transposée de A.\n"
   ]
  },
  {
   "cell_type": "code",
   "execution_count": 7,
   "metadata": {},
   "outputs": [
    {
     "name": "stdout",
     "output_type": "stream",
     "text": [
      "A :  [[ 3  1  5]\n",
      " [ 9  8 -1]\n",
      " [18 12  2]]\n",
      "Transposée de A :  [[ 3  9 18]\n",
      " [ 1  8 12]\n",
      " [ 5 -1  2]]\n"
     ]
    }
   ],
   "source": [
    "import numpy as np\n",
    " \n",
    "A = np.array([ [3, 1, 5], [9, 8, -1], [18, 12, 2] ])\n",
    " \n",
    "C = A.transpose()\n",
    " \n",
    "print(\"A : \", A)\n",
    "print(\"Transposée de A : \", C)"
   ]
  },
  {
   "cell_type": "raw",
   "metadata": {},
   "source": [
    "Ex 5: Permutations\n",
    "\n",
    "    𝑀\n",
    "\n",
    "désignant une matrice quelconque d’entiers à 𝑙𝑖 lignes et 𝑐𝑜 colonnes, 𝑛 un entier quelconque, programmer une fonction qui retourne la matrice 𝑆𝑜𝑟𝑡𝑖𝑒 qui empile verticalement les 𝑐𝑜+1 matrices obtenues en adjoignant à 𝑀 une colonne 𝐴 à 𝑙𝑖 lignes dont tousles éléments sont égaux à 𝑛, 𝐴 étant placée d’abord devant 𝑀, puis entre la première et deuxième colonne de 𝑀𝑎,etc, jusqu’à ce que 𝐴 devienne sa dernière colonne. La matriceobtenue aura 𝑐𝑜+1 colonnes et (𝑛+1) 𝑙𝑖\n",
    "\n",
    "lignes\n",
    "\n",
    "Écrire toutes les permutations de(1, ..., n)\n"
   ]
  },
  {
   "cell_type": "code",
   "execution_count": 8,
   "metadata": {},
   "outputs": [],
   "source": [
    "#Ex5\n",
    "# appliquer une permutation\n",
    "def apply_permutation(A,perm,N):\n",
    "    B=np.empty_like(A) # A est une matrice NxN d'entiers dans range(N)\n",
    "    for i in range(N):\n",
    "            B[A[:]==i]=perm[i] # perm est une permutation de range(N)\n",
    "    return B"
   ]
  },
  {
   "cell_type": "code",
   "execution_count": null,
   "metadata": {},
   "outputs": [],
   "source": []
  }
 ],
 "metadata": {
  "kernelspec": {
   "display_name": "Python 3",
   "language": "python",
   "name": "python3"
  },
  "language_info": {
   "codemirror_mode": {
    "name": "ipython",
    "version": 3
   },
   "file_extension": ".py",
   "mimetype": "text/x-python",
   "name": "python",
   "nbconvert_exporter": "python",
   "pygments_lexer": "ipython3",
   "version": "3.7.6"
  }
 },
 "nbformat": 4,
 "nbformat_minor": 4
}
